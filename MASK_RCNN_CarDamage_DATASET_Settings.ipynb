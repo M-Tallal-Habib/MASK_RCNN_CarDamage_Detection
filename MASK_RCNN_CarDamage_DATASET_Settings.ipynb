{
  "nbformat": 4,
  "nbformat_minor": 0,
  "metadata": {
    "colab": {
      "name": "MASK-RCNN-CarDamage-DATASET-Settings.ipynb",
      "provenance": [],
      "collapsed_sections": []
    },
    "kernelspec": {
      "name": "python3",
      "display_name": "Python 3"
    },
    "accelerator": "GPU"
  },
  "cells": [
    {
      "cell_type": "code",
      "metadata": {
        "id": "zrsjuDYQ-nJR",
        "colab_type": "code",
        "outputId": "878cb691-35ed-4542-e62d-d2cbecc51fc1",
        "colab": {
          "resources": {
            "http://localhost:8080/nbextensions/google.colab/files.js": {
              "data": "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",
              "ok": true,
              "headers": [
                [
                  "content-type",
                  "application/javascript"
                ]
              ],
              "status": 200,
              "status_text": ""
            }
          },
          "base_uri": "https://localhost:8080/",
          "height": 91
        }
      },
      "source": [
        "from google.colab import files\n",
        "\n",
        "uploaded = files.upload()\n",
        "\n",
        "for fn in uploaded.keys():\n",
        "  print('User uploaded file \"{name}\" with length {length} bytes'.format(\n",
        "      name=fn, length=len(uploaded[fn])))"
      ],
      "execution_count": 0,
      "outputs": [
        {
          "output_type": "display_data",
          "data": {
            "text/html": [
              "\n",
              "     <input type=\"file\" id=\"files-026d700a-89fc-4245-a75e-1bd177e4c848\" name=\"files[]\" multiple disabled />\n",
              "     <output id=\"result-026d700a-89fc-4245-a75e-1bd177e4c848\">\n",
              "      Upload widget is only available when the cell has been executed in the\n",
              "      current browser session. Please rerun this cell to enable.\n",
              "      </output>\n",
              "      <script src=\"/nbextensions/google.colab/files.js\"></script> "
            ],
            "text/plain": [
              "<IPython.core.display.HTML object>"
            ]
          },
          "metadata": {
            "tags": []
          }
        },
        {
          "output_type": "stream",
          "text": [
            "Saving Car_Accident_Dataset.zip to Car_Accident_Dataset.zip\n",
            "User uploaded file \"Car_Accident_Dataset.zip\" with length 26163266 bytes\n"
          ],
          "name": "stdout"
        }
      ]
    },
    {
      "cell_type": "code",
      "metadata": {
        "id": "_Hj2GAU0JOWZ",
        "colab_type": "code",
        "colab": {}
      },
      "source": [
        "from google.colab import drive\n",
        "drive.mount('/content/drive')"
      ],
      "execution_count": 0,
      "outputs": []
    },
    {
      "cell_type": "code",
      "metadata": {
        "id": "Sr6o6CRWNR0u",
        "colab_type": "code",
        "outputId": "3e48b800-22c4-4aac-844a-4ceba7c4fbc1",
        "colab": {
          "base_uri": "https://localhost:8080/",
          "height": 34
        }
      },
      "source": [
        "%cd /content/drive/My Drive"
      ],
      "execution_count": 0,
      "outputs": [
        {
          "output_type": "stream",
          "text": [
            "/content/drive/My Drive\n"
          ],
          "name": "stdout"
        }
      ]
    },
    {
      "cell_type": "code",
      "metadata": {
        "id": "vy1zPoxetYzP",
        "colab_type": "code",
        "outputId": "c0df6bca-5430-45d7-9bd2-4f5eb832ba5e",
        "colab": {
          "base_uri": "https://localhost:8080/",
          "height": 119
        }
      },
      "source": [
        "!git clone https://github.com/matterport/Mask_RCNN.git"
      ],
      "execution_count": 0,
      "outputs": [
        {
          "output_type": "stream",
          "text": [
            "Cloning into 'Mask_RCNN'...\n",
            "remote: Enumerating objects: 956, done.\u001b[K\n",
            "remote: Total 956 (delta 0), reused 0 (delta 0), pack-reused 956\u001b[K\n",
            "Receiving objects: 100% (956/956), 111.90 MiB | 12.05 MiB/s, done.\n",
            "Resolving deltas: 100% (571/571), done.\n",
            "Checking out files: 100% (76/76), done.\n"
          ],
          "name": "stdout"
        }
      ]
    },
    {
      "cell_type": "code",
      "metadata": {
        "id": "Z-C_j5lOti3I",
        "colab_type": "code",
        "outputId": "44f94d8f-2746-46d8-a6af-cefa3811f466",
        "colab": {
          "base_uri": "https://localhost:8080/",
          "height": 1000
        }
      },
      "source": [
        "%cd \"/content/drive/My Drive/Mask_RCNN\"\n",
        "!python setup.py install\n",
        "!pip show mask-rcnn"
      ],
      "execution_count": 0,
      "outputs": [
        {
          "output_type": "stream",
          "text": [
            "/content/drive/My Drive/Mask_RCNN\n",
            "WARNING:root:Fail load requirements file, so using default ones.\n",
            "running install\n",
            "running bdist_egg\n",
            "running egg_info\n",
            "creating mask_rcnn.egg-info\n",
            "writing mask_rcnn.egg-info/PKG-INFO\n",
            "writing dependency_links to mask_rcnn.egg-info/dependency_links.txt\n",
            "writing top-level names to mask_rcnn.egg-info/top_level.txt\n",
            "writing manifest file 'mask_rcnn.egg-info/SOURCES.txt'\n",
            "reading manifest template 'MANIFEST.in'\n",
            "writing manifest file 'mask_rcnn.egg-info/SOURCES.txt'\n",
            "installing library code to build/bdist.linux-x86_64/egg\n",
            "running install_lib\n",
            "running build_py\n",
            "creating build\n",
            "creating build/lib\n",
            "creating build/lib/mrcnn\n",
            "copying mrcnn/__init__.py -> build/lib/mrcnn\n",
            "copying mrcnn/config.py -> build/lib/mrcnn\n",
            "copying mrcnn/model.py -> build/lib/mrcnn\n",
            "copying mrcnn/parallel_model.py -> build/lib/mrcnn\n",
            "copying mrcnn/utils.py -> build/lib/mrcnn\n",
            "copying mrcnn/visualize.py -> build/lib/mrcnn\n",
            "creating build/bdist.linux-x86_64\n",
            "creating build/bdist.linux-x86_64/egg\n",
            "creating build/bdist.linux-x86_64/egg/mrcnn\n",
            "copying build/lib/mrcnn/__init__.py -> build/bdist.linux-x86_64/egg/mrcnn\n",
            "copying build/lib/mrcnn/config.py -> build/bdist.linux-x86_64/egg/mrcnn\n",
            "copying build/lib/mrcnn/model.py -> build/bdist.linux-x86_64/egg/mrcnn\n",
            "copying build/lib/mrcnn/parallel_model.py -> build/bdist.linux-x86_64/egg/mrcnn\n",
            "copying build/lib/mrcnn/utils.py -> build/bdist.linux-x86_64/egg/mrcnn\n",
            "copying build/lib/mrcnn/visualize.py -> build/bdist.linux-x86_64/egg/mrcnn\n",
            "byte-compiling build/bdist.linux-x86_64/egg/mrcnn/__init__.py to __init__.cpython-36.pyc\n",
            "byte-compiling build/bdist.linux-x86_64/egg/mrcnn/config.py to config.cpython-36.pyc\n",
            "byte-compiling build/bdist.linux-x86_64/egg/mrcnn/model.py to model.cpython-36.pyc\n",
            "byte-compiling build/bdist.linux-x86_64/egg/mrcnn/parallel_model.py to parallel_model.cpython-36.pyc\n",
            "byte-compiling build/bdist.linux-x86_64/egg/mrcnn/utils.py to utils.cpython-36.pyc\n",
            "byte-compiling build/bdist.linux-x86_64/egg/mrcnn/visualize.py to visualize.cpython-36.pyc\n",
            "creating build/bdist.linux-x86_64/egg/EGG-INFO\n",
            "copying mask_rcnn.egg-info/PKG-INFO -> build/bdist.linux-x86_64/egg/EGG-INFO\n",
            "copying mask_rcnn.egg-info/SOURCES.txt -> build/bdist.linux-x86_64/egg/EGG-INFO\n",
            "copying mask_rcnn.egg-info/dependency_links.txt -> build/bdist.linux-x86_64/egg/EGG-INFO\n",
            "copying mask_rcnn.egg-info/top_level.txt -> build/bdist.linux-x86_64/egg/EGG-INFO\n",
            "zip_safe flag not set; analyzing archive contents...\n",
            "creating dist\n",
            "creating 'dist/mask_rcnn-2.1-py3.6.egg' and adding 'build/bdist.linux-x86_64/egg' to it\n",
            "removing 'build/bdist.linux-x86_64/egg' (and everything under it)\n",
            "Processing mask_rcnn-2.1-py3.6.egg\n",
            "Copying mask_rcnn-2.1-py3.6.egg to /usr/local/lib/python3.6/dist-packages\n",
            "Adding mask-rcnn 2.1 to easy-install.pth file\n",
            "\n",
            "Installed /usr/local/lib/python3.6/dist-packages/mask_rcnn-2.1-py3.6.egg\n",
            "Processing dependencies for mask-rcnn==2.1\n",
            "Finished processing dependencies for mask-rcnn==2.1\n",
            "Name: mask-rcnn\n",
            "Version: 2.1\n",
            "Summary: Mask R-CNN for object detection and instance segmentation\n",
            "Home-page: https://github.com/matterport/Mask_RCNN\n",
            "Author: Matterport\n",
            "Author-email: waleed.abdulla@gmail.com\n",
            "License: MIT\n",
            "Location: /usr/local/lib/python3.6/dist-packages/mask_rcnn-2.1-py3.6.egg\n",
            "Requires: \n",
            "Required-by: \n"
          ],
          "name": "stdout"
        }
      ]
    },
    {
      "cell_type": "code",
      "metadata": {
        "id": "Kdsl8O-ww8kp",
        "colab_type": "code",
        "colab": {}
      },
      "source": [
        "!mkdir \"/content/drive/My Drive/Mask_RCNN/CarAccidentDataset\""
      ],
      "execution_count": 0,
      "outputs": []
    },
    {
      "cell_type": "code",
      "metadata": {
        "id": "_CXLgsjc0GsB",
        "colab_type": "code",
        "outputId": "4364abcf-1794-4cce-fa67-ad4462022487",
        "colab": {
          "base_uri": "https://localhost:8080/",
          "height": 1000
        }
      },
      "source": [
        "\n",
        "!unzip /content/Car_Accident_Dataset.zip -d \"/content/drive/My Drive/Mask_RCNN/CarAccidentDataset\""
      ],
      "execution_count": 0,
      "outputs": [
        {
          "output_type": "stream",
          "text": [
            "Archive:  /content/Car_Accident_Dataset.zip\n",
            "   creating: /content/drive/My Drive/Mask_RCNN/CarAccidentDataset/train/\n",
            "  inflating: /content/drive/My Drive/Mask_RCNN/CarAccidentDataset/train/2-car-crash-1.jpg  \n",
            "  inflating: /content/drive/My Drive/Mask_RCNN/CarAccidentDataset/train/20190308PHT30931_original.jpg  \n",
            "  inflating: /content/drive/My Drive/Mask_RCNN/CarAccidentDataset/train/5aff172acc061c2c008b4f2e-750-563.jpg  \n",
            "  inflating: /content/drive/My Drive/Mask_RCNN/CarAccidentDataset/train/car-accidents-faults-crash-UK-862242.jpg  \n",
            "  inflating: /content/drive/My Drive/Mask_RCNN/CarAccidentDataset/train/car_crash-5bfc37ea46e0fb00265f3ea2.jpg  \n",
            "  inflating: /content/drive/My Drive/Mask_RCNN/CarAccidentDataset/train/download (2).jpg  \n",
            "  inflating: /content/drive/My Drive/Mask_RCNN/CarAccidentDataset/train/download (3).jpg  \n",
            "  inflating: /content/drive/My Drive/Mask_RCNN/CarAccidentDataset/train/gettyimages-157180962-2048x2048.jpg  \n",
            "  inflating: /content/drive/My Drive/Mask_RCNN/CarAccidentDataset/train/gettyimages-160641670-2048x2048.jpg  \n",
            "  inflating: /content/drive/My Drive/Mask_RCNN/CarAccidentDataset/train/gettyimages-173056956-2048x2048.jpg  \n",
            "  inflating: /content/drive/My Drive/Mask_RCNN/CarAccidentDataset/train/gettyimages-465006009-2048x2048.jpg  \n",
            "  inflating: /content/drive/My Drive/Mask_RCNN/CarAccidentDataset/train/gettyimages-892674420-612x612.jpg  \n",
            "  inflating: /content/drive/My Drive/Mask_RCNN/CarAccidentDataset/train/gettyimages-90201067-2048x2048.jpg  \n",
            "  inflating: /content/drive/My Drive/Mask_RCNN/CarAccidentDataset/train/gettyimages-90201069-2048x2048.jpg  \n",
            "  inflating: /content/drive/My Drive/Mask_RCNN/CarAccidentDataset/train/gettyimages-sb10066383g-001-2048x2048.jpg  \n",
            "  inflating: /content/drive/My Drive/Mask_RCNN/CarAccidentDataset/train/images (1).jpg  \n",
            "  inflating: /content/drive/My Drive/Mask_RCNN/CarAccidentDataset/train/images (10).jpg  \n",
            "  inflating: /content/drive/My Drive/Mask_RCNN/CarAccidentDataset/train/images (11).jpg  \n",
            "  inflating: /content/drive/My Drive/Mask_RCNN/CarAccidentDataset/train/images (12).jpg  \n",
            "  inflating: /content/drive/My Drive/Mask_RCNN/CarAccidentDataset/train/images (13).jpg  \n",
            "  inflating: /content/drive/My Drive/Mask_RCNN/CarAccidentDataset/train/images (17).jpg  \n",
            "  inflating: /content/drive/My Drive/Mask_RCNN/CarAccidentDataset/train/images (18).jpg  \n",
            "  inflating: /content/drive/My Drive/Mask_RCNN/CarAccidentDataset/train/images (19).jpg  \n",
            "  inflating: /content/drive/My Drive/Mask_RCNN/CarAccidentDataset/train/images (2).jpg  \n",
            "  inflating: /content/drive/My Drive/Mask_RCNN/CarAccidentDataset/train/images (20).jpg  \n",
            "  inflating: /content/drive/My Drive/Mask_RCNN/CarAccidentDataset/train/images (4).jpg  \n",
            "  inflating: /content/drive/My Drive/Mask_RCNN/CarAccidentDataset/train/images (9).jpg  \n",
            "  inflating: /content/drive/My Drive/Mask_RCNN/CarAccidentDataset/train/images.jpg  \n",
            "  inflating: /content/drive/My Drive/Mask_RCNN/CarAccidentDataset/train/istockphoto-105651320-640x640.jpg  \n",
            "  inflating: /content/drive/My Drive/Mask_RCNN/CarAccidentDataset/train/istockphoto-171334786-1024x1024.jpg  \n",
            "  inflating: /content/drive/My Drive/Mask_RCNN/CarAccidentDataset/train/istockphoto-172759648-1024x1024.jpg  \n",
            "  inflating: /content/drive/My Drive/Mask_RCNN/CarAccidentDataset/train/istockphoto-519808733-1024x1024.jpg  \n",
            "  inflating: /content/drive/My Drive/Mask_RCNN/CarAccidentDataset/train/istockphoto-532871844-1024x1024.jpg  \n",
            "  inflating: /content/drive/My Drive/Mask_RCNN/CarAccidentDataset/train/istockphoto-543076884-1024x1024.jpg  \n",
            "  inflating: /content/drive/My Drive/Mask_RCNN/CarAccidentDataset/train/istockphoto-950299922-1024x1024.jpg  \n",
            "  inflating: /content/drive/My Drive/Mask_RCNN/CarAccidentDataset/train/tbone-2-576x262.jpg  \n",
            "  inflating: /content/drive/My Drive/Mask_RCNN/CarAccidentDataset/train/via_export_json.json  \n",
            "   creating: /content/drive/My Drive/Mask_RCNN/CarAccidentDataset/val/\n",
            "  inflating: /content/drive/My Drive/Mask_RCNN/CarAccidentDataset/val/5c71c2a0dc714.jpg  \n",
            "  inflating: /content/drive/My Drive/Mask_RCNN/CarAccidentDataset/val/crash-test-collision-60-km-h-distraction-163016.jpeg  \n",
            "  inflating: /content/drive/My Drive/Mask_RCNN/CarAccidentDataset/val/download (1).jpg  \n",
            "  inflating: /content/drive/My Drive/Mask_RCNN/CarAccidentDataset/val/gettyimages-1007795304-2048x2048.jpg  \n",
            "  inflating: /content/drive/My Drive/Mask_RCNN/CarAccidentDataset/val/gettyimages-94474503-2048x2048.jpg  \n",
            "  inflating: /content/drive/My Drive/Mask_RCNN/CarAccidentDataset/val/images (14).jpg  \n",
            "  inflating: /content/drive/My Drive/Mask_RCNN/CarAccidentDataset/val/images (16).jpg  \n",
            "  inflating: /content/drive/My Drive/Mask_RCNN/CarAccidentDataset/val/images (3).jpg  \n",
            "  inflating: /content/drive/My Drive/Mask_RCNN/CarAccidentDataset/val/images (5).jpg  \n",
            "  inflating: /content/drive/My Drive/Mask_RCNN/CarAccidentDataset/val/images (6).jpg  \n",
            "  inflating: /content/drive/My Drive/Mask_RCNN/CarAccidentDataset/val/images (7).jpg  \n",
            "  inflating: /content/drive/My Drive/Mask_RCNN/CarAccidentDataset/val/images (8).jpg  \n",
            "  inflating: /content/drive/My Drive/Mask_RCNN/CarAccidentDataset/val/istockphoto-538776239-1024x1024.jpg  \n",
            "  inflating: /content/drive/My Drive/Mask_RCNN/CarAccidentDataset/val/pexels-photo-1230677.jpeg  \n",
            "  inflating: /content/drive/My Drive/Mask_RCNN/CarAccidentDataset/val/stock-photo-isolate-side-of-the-car-the-color-of-braun-white-which-crashed-with-another-car-until-it-was-596238068.jpg  \n",
            "  inflating: /content/drive/My Drive/Mask_RCNN/CarAccidentDataset/val/via_export_json.json  \n",
            "  inflating: /content/drive/My Drive/Mask_RCNN/CarAccidentDataset/train/train.json  \n",
            "  inflating: /content/drive/My Drive/Mask_RCNN/CarAccidentDataset/val/val.json  \n",
            "  inflating: /content/drive/My Drive/Mask_RCNN/CarAccidentDataset/train/1.jpg  \n",
            "  inflating: /content/drive/My Drive/Mask_RCNN/CarAccidentDataset/train/10.jpg  \n",
            "  inflating: /content/drive/My Drive/Mask_RCNN/CarAccidentDataset/train/11.jpg  \n",
            "  inflating: /content/drive/My Drive/Mask_RCNN/CarAccidentDataset/train/12.jpg  \n",
            "  inflating: /content/drive/My Drive/Mask_RCNN/CarAccidentDataset/train/13.jpg  \n",
            "  inflating: /content/drive/My Drive/Mask_RCNN/CarAccidentDataset/train/14.jpg  \n",
            "  inflating: /content/drive/My Drive/Mask_RCNN/CarAccidentDataset/train/15.jpg  \n",
            "  inflating: /content/drive/My Drive/Mask_RCNN/CarAccidentDataset/train/16.jpg  \n",
            "  inflating: /content/drive/My Drive/Mask_RCNN/CarAccidentDataset/train/17.jpg  \n",
            "  inflating: /content/drive/My Drive/Mask_RCNN/CarAccidentDataset/train/18.jpg  \n",
            "  inflating: /content/drive/My Drive/Mask_RCNN/CarAccidentDataset/train/19.jpg  \n",
            "  inflating: /content/drive/My Drive/Mask_RCNN/CarAccidentDataset/train/2.jpg  \n",
            "  inflating: /content/drive/My Drive/Mask_RCNN/CarAccidentDataset/train/20.jpg  \n",
            "  inflating: /content/drive/My Drive/Mask_RCNN/CarAccidentDataset/train/21.jpg  \n",
            "  inflating: /content/drive/My Drive/Mask_RCNN/CarAccidentDataset/train/22.jpg  \n",
            "  inflating: /content/drive/My Drive/Mask_RCNN/CarAccidentDataset/train/23.jpg  \n",
            "  inflating: /content/drive/My Drive/Mask_RCNN/CarAccidentDataset/train/24.jpg  \n",
            "  inflating: /content/drive/My Drive/Mask_RCNN/CarAccidentDataset/train/25.jpg  \n",
            "  inflating: /content/drive/My Drive/Mask_RCNN/CarAccidentDataset/train/26.jpg  \n",
            "  inflating: /content/drive/My Drive/Mask_RCNN/CarAccidentDataset/train/27.jpg  \n",
            "  inflating: /content/drive/My Drive/Mask_RCNN/CarAccidentDataset/train/28.jpg  \n",
            "  inflating: /content/drive/My Drive/Mask_RCNN/CarAccidentDataset/train/29.jpg  \n",
            "  inflating: /content/drive/My Drive/Mask_RCNN/CarAccidentDataset/train/3.jpg  \n",
            "  inflating: /content/drive/My Drive/Mask_RCNN/CarAccidentDataset/train/30.jpg  \n",
            "  inflating: /content/drive/My Drive/Mask_RCNN/CarAccidentDataset/train/31.jpg  \n",
            "  inflating: /content/drive/My Drive/Mask_RCNN/CarAccidentDataset/train/32.jpg  \n",
            "  inflating: /content/drive/My Drive/Mask_RCNN/CarAccidentDataset/train/33.jpg  \n",
            "  inflating: /content/drive/My Drive/Mask_RCNN/CarAccidentDataset/train/34.jpg  \n",
            "  inflating: /content/drive/My Drive/Mask_RCNN/CarAccidentDataset/train/35.jpg  \n",
            "  inflating: /content/drive/My Drive/Mask_RCNN/CarAccidentDataset/train/36.jpg  \n",
            "  inflating: /content/drive/My Drive/Mask_RCNN/CarAccidentDataset/train/4.jpg  \n",
            "  inflating: /content/drive/My Drive/Mask_RCNN/CarAccidentDataset/train/5.jpg  \n",
            "  inflating: /content/drive/My Drive/Mask_RCNN/CarAccidentDataset/train/6.jpg  \n",
            "  inflating: /content/drive/My Drive/Mask_RCNN/CarAccidentDataset/train/7.jpg  \n",
            "  inflating: /content/drive/My Drive/Mask_RCNN/CarAccidentDataset/train/8.jpg  \n",
            "  inflating: /content/drive/My Drive/Mask_RCNN/CarAccidentDataset/train/9.jpg  \n",
            "  inflating: /content/drive/My Drive/Mask_RCNN/CarAccidentDataset/train/via_region_data.json  \n",
            "  inflating: /content/drive/My Drive/Mask_RCNN/CarAccidentDataset/val/1.jpg  \n",
            "  inflating: /content/drive/My Drive/Mask_RCNN/CarAccidentDataset/val/10.jpg  \n",
            "  inflating: /content/drive/My Drive/Mask_RCNN/CarAccidentDataset/val/11.jpg  \n",
            "  inflating: /content/drive/My Drive/Mask_RCNN/CarAccidentDataset/val/12.jpg  \n",
            "  inflating: /content/drive/My Drive/Mask_RCNN/CarAccidentDataset/val/13.jpg  \n",
            "  inflating: /content/drive/My Drive/Mask_RCNN/CarAccidentDataset/val/14.jpeg  \n",
            "  inflating: /content/drive/My Drive/Mask_RCNN/CarAccidentDataset/val/15.jpg  \n",
            "  inflating: /content/drive/My Drive/Mask_RCNN/CarAccidentDataset/val/2.jpeg  \n",
            "  inflating: /content/drive/My Drive/Mask_RCNN/CarAccidentDataset/val/3.jpg  \n",
            "  inflating: /content/drive/My Drive/Mask_RCNN/CarAccidentDataset/val/4.jpg  \n",
            "  inflating: /content/drive/My Drive/Mask_RCNN/CarAccidentDataset/val/5.jpg  \n",
            "  inflating: /content/drive/My Drive/Mask_RCNN/CarAccidentDataset/val/6.jpg  \n",
            "  inflating: /content/drive/My Drive/Mask_RCNN/CarAccidentDataset/val/7.jpg  \n",
            "  inflating: /content/drive/My Drive/Mask_RCNN/CarAccidentDataset/val/8.jpg  \n",
            "  inflating: /content/drive/My Drive/Mask_RCNN/CarAccidentDataset/val/9.jpg  \n",
            "  inflating: /content/drive/My Drive/Mask_RCNN/CarAccidentDataset/val/via_region_data.json  \n"
          ],
          "name": "stdout"
        }
      ]
    },
    {
      "cell_type": "code",
      "metadata": {
        "id": "IYkGaW7D0No4",
        "colab_type": "code",
        "outputId": "4e3ce65a-2eeb-49ff-c52c-51a376c1cdd0",
        "colab": {
          "base_uri": "https://localhost:8080/",
          "height": 34
        }
      },
      "source": [
        "%cd \"/content/drive/My Drive/Mask_RCNN/\""
      ],
      "execution_count": 0,
      "outputs": [
        {
          "output_type": "stream",
          "text": [
            "/content/drive/My Drive/Mask_RCNN\n"
          ],
          "name": "stdout"
        }
      ]
    },
    {
      "cell_type": "code",
      "metadata": {
        "id": "_JKGJxm80iDO",
        "colab_type": "code",
        "outputId": "62744442-f3b7-4acc-e4ad-8b923d888a65",
        "colab": {
          "base_uri": "https://localhost:8080/",
          "height": 1000
        }
      },
      "source": [
        "!python3 CarDamage.py train --dataset=\"/content/drive/My Drive/Mask_RCNN/CarAccidentDataset\" --weights=coco\n"
      ],
      "execution_count": 0,
      "outputs": [
        {
          "output_type": "stream",
          "text": [
            "Using TensorFlow backend.\n",
            "Weights:  coco\n",
            "Dataset:  /content/drive/My Drive/Mask_RCNN/CarAccidentDataset\n",
            "Logs:  /content/drive/My Drive/Mask_RCNN/logs\n",
            "\n",
            "Configurations:\n",
            "BACKBONE                       resnet101\n",
            "BACKBONE_STRIDES               [4, 8, 16, 32, 64]\n",
            "BATCH_SIZE                     2\n",
            "BBOX_STD_DEV                   [0.1 0.1 0.2 0.2]\n",
            "COMPUTE_BACKBONE_SHAPE         None\n",
            "DETECTION_MAX_INSTANCES        100\n",
            "DETECTION_MIN_CONFIDENCE       0.0\n",
            "DETECTION_NMS_THRESHOLD        0.3\n",
            "FPN_CLASSIF_FC_LAYERS_SIZE     1024\n",
            "GPU_COUNT                      1\n",
            "GRADIENT_CLIP_NORM             5.0\n",
            "IMAGES_PER_GPU                 2\n",
            "IMAGE_CHANNEL_COUNT            3\n",
            "IMAGE_MAX_DIM                  1024\n",
            "IMAGE_META_SIZE                14\n",
            "IMAGE_MIN_DIM                  800\n",
            "IMAGE_MIN_SCALE                0\n",
            "IMAGE_RESIZE_MODE              square\n",
            "IMAGE_SHAPE                    [1024 1024    3]\n",
            "LEARNING_MOMENTUM              0.9\n",
            "LEARNING_RATE                  0.001\n",
            "LOSS_WEIGHTS                   {'rpn_class_loss': 1.0, 'rpn_bbox_loss': 1.0, 'mrcnn_class_loss': 1.0, 'mrcnn_bbox_loss': 1.0, 'mrcnn_mask_loss': 1.0}\n",
            "MASK_POOL_SIZE                 14\n",
            "MASK_SHAPE                     [28, 28]\n",
            "MAX_GT_INSTANCES               100\n",
            "MEAN_PIXEL                     [123.7 116.8 103.9]\n",
            "MINI_MASK_SHAPE                (56, 56)\n",
            "NAME                           damage\n",
            "NUM_CLASSES                    2\n",
            "POOL_SIZE                      7\n",
            "POST_NMS_ROIS_INFERENCE        1000\n",
            "POST_NMS_ROIS_TRAINING         2000\n",
            "PRE_NMS_LIMIT                  6000\n",
            "ROI_POSITIVE_RATIO             0.33\n",
            "RPN_ANCHOR_RATIOS              [0.5, 1, 2]\n",
            "RPN_ANCHOR_SCALES              (32, 64, 128, 256, 512)\n",
            "RPN_ANCHOR_STRIDE              1\n",
            "RPN_BBOX_STD_DEV               [0.1 0.1 0.2 0.2]\n",
            "RPN_NMS_THRESHOLD              0.7\n",
            "RPN_TRAIN_ANCHORS_PER_IMAGE    256\n",
            "STEPS_PER_EPOCH                100\n",
            "TOP_DOWN_PYRAMID_SIZE          256\n",
            "TRAIN_BN                       False\n",
            "TRAIN_ROIS_PER_IMAGE           200\n",
            "USE_MINI_MASK                  True\n",
            "USE_RPN_ROIS                   True\n",
            "VALIDATION_STEPS               50\n",
            "WEIGHT_DECAY                   0.0001\n",
            "\n",
            "\n",
            "WARNING:tensorflow:From /usr/local/lib/python3.6/dist-packages/keras/backend/tensorflow_backend.py:541: The name tf.placeholder is deprecated. Please use tf.compat.v1.placeholder instead.\n",
            "\n",
            "WARNING:tensorflow:From /usr/local/lib/python3.6/dist-packages/keras/backend/tensorflow_backend.py:66: The name tf.get_default_graph is deprecated. Please use tf.compat.v1.get_default_graph instead.\n",
            "\n",
            "WARNING:tensorflow:From /usr/local/lib/python3.6/dist-packages/keras/backend/tensorflow_backend.py:4432: The name tf.random_uniform is deprecated. Please use tf.random.uniform instead.\n",
            "\n",
            "WARNING:tensorflow:From /usr/local/lib/python3.6/dist-packages/keras/backend/tensorflow_backend.py:2139: The name tf.nn.fused_batch_norm is deprecated. Please use tf.compat.v1.nn.fused_batch_norm instead.\n",
            "\n",
            "WARNING:tensorflow:From /usr/local/lib/python3.6/dist-packages/keras/backend/tensorflow_backend.py:4267: The name tf.nn.max_pool is deprecated. Please use tf.nn.max_pool2d instead.\n",
            "\n",
            "WARNING:tensorflow:From /usr/local/lib/python3.6/dist-packages/keras/backend/tensorflow_backend.py:2239: The name tf.image.resize_nearest_neighbor is deprecated. Please use tf.compat.v1.image.resize_nearest_neighbor instead.\n",
            "\n",
            "WARNING:tensorflow:From /usr/local/lib/python3.6/dist-packages/tensorflow_core/python/ops/array_ops.py:1475: where (from tensorflow.python.ops.array_ops) is deprecated and will be removed in a future version.\n",
            "Instructions for updating:\n",
            "Use tf.where in 2.0, which has the same broadcast rule as np.where\n",
            "WARNING:tensorflow:From /content/drive/My Drive/Mask_RCNN/mrcnn/model.py:553: The name tf.random_shuffle is deprecated. Please use tf.random.shuffle instead.\n",
            "\n",
            "WARNING:tensorflow:From /content/drive/My Drive/Mask_RCNN/mrcnn/utils.py:202: The name tf.log is deprecated. Please use tf.math.log instead.\n",
            "\n",
            "WARNING:tensorflow:From /content/drive/My Drive/Mask_RCNN/mrcnn/model.py:600: calling crop_and_resize_v1 (from tensorflow.python.ops.image_ops_impl) with box_ind is deprecated and will be removed in a future version.\n",
            "Instructions for updating:\n",
            "box_ind is deprecated, use box_indices instead\n",
            "Loading weights  /content/drive/My Drive/Mask_RCNN/mask_rcnn_coco.h5\n",
            "WARNING:tensorflow:From /usr/local/lib/python3.6/dist-packages/keras/backend/tensorflow_backend.py:190: The name tf.get_default_session is deprecated. Please use tf.compat.v1.get_default_session instead.\n",
            "\n",
            "WARNING:tensorflow:From /usr/local/lib/python3.6/dist-packages/keras/backend/tensorflow_backend.py:197: The name tf.ConfigProto is deprecated. Please use tf.compat.v1.ConfigProto instead.\n",
            "\n",
            "WARNING:tensorflow:From /usr/local/lib/python3.6/dist-packages/keras/backend/tensorflow_backend.py:203: The name tf.Session is deprecated. Please use tf.compat.v1.Session instead.\n",
            "\n",
            "2019-10-13 07:05:45.713797: I tensorflow/core/platform/profile_utils/cpu_utils.cc:94] CPU Frequency: 2300000000 Hz\n",
            "2019-10-13 07:05:45.714086: I tensorflow/compiler/xla/service/service.cc:168] XLA service 0x1a83cbc0 initialized for platform Host (this does not guarantee that XLA will be used). Devices:\n",
            "2019-10-13 07:05:45.714123: I tensorflow/compiler/xla/service/service.cc:176]   StreamExecutor device (0): Host, Default Version\n",
            "2019-10-13 07:05:45.720019: I tensorflow/stream_executor/platform/default/dso_loader.cc:44] Successfully opened dynamic library libcuda.so.1\n",
            "2019-10-13 07:05:45.874049: I tensorflow/stream_executor/cuda/cuda_gpu_executor.cc:983] successful NUMA node read from SysFS had negative value (-1), but there must be at least one NUMA node, so returning NUMA node zero\n",
            "2019-10-13 07:05:45.874981: I tensorflow/compiler/xla/service/service.cc:168] XLA service 0x1a83cd80 initialized for platform CUDA (this does not guarantee that XLA will be used). Devices:\n",
            "2019-10-13 07:05:45.875036: I tensorflow/compiler/xla/service/service.cc:176]   StreamExecutor device (0): Tesla K80, Compute Capability 3.7\n",
            "2019-10-13 07:05:45.876370: I tensorflow/stream_executor/cuda/cuda_gpu_executor.cc:983] successful NUMA node read from SysFS had negative value (-1), but there must be at least one NUMA node, so returning NUMA node zero\n",
            "2019-10-13 07:05:45.877143: I tensorflow/core/common_runtime/gpu/gpu_device.cc:1618] Found device 0 with properties: \n",
            "name: Tesla K80 major: 3 minor: 7 memoryClockRate(GHz): 0.8235\n",
            "pciBusID: 0000:00:04.0\n",
            "2019-10-13 07:05:45.893996: I tensorflow/stream_executor/platform/default/dso_loader.cc:44] Successfully opened dynamic library libcudart.so.10.0\n",
            "2019-10-13 07:05:46.097728: I tensorflow/stream_executor/platform/default/dso_loader.cc:44] Successfully opened dynamic library libcublas.so.10.0\n",
            "2019-10-13 07:05:46.189103: I tensorflow/stream_executor/platform/default/dso_loader.cc:44] Successfully opened dynamic library libcufft.so.10.0\n",
            "2019-10-13 07:05:46.215452: I tensorflow/stream_executor/platform/default/dso_loader.cc:44] Successfully opened dynamic library libcurand.so.10.0\n",
            "2019-10-13 07:05:46.424339: I tensorflow/stream_executor/platform/default/dso_loader.cc:44] Successfully opened dynamic library libcusolver.so.10.0\n",
            "2019-10-13 07:05:46.566777: I tensorflow/stream_executor/platform/default/dso_loader.cc:44] Successfully opened dynamic library libcusparse.so.10.0\n",
            "2019-10-13 07:05:46.999552: I tensorflow/stream_executor/platform/default/dso_loader.cc:44] Successfully opened dynamic library libcudnn.so.7\n",
            "2019-10-13 07:05:46.999802: I tensorflow/stream_executor/cuda/cuda_gpu_executor.cc:983] successful NUMA node read from SysFS had negative value (-1), but there must be at least one NUMA node, so returning NUMA node zero\n",
            "2019-10-13 07:05:47.000640: I tensorflow/stream_executor/cuda/cuda_gpu_executor.cc:983] successful NUMA node read from SysFS had negative value (-1), but there must be at least one NUMA node, so returning NUMA node zero\n",
            "2019-10-13 07:05:47.001301: I tensorflow/core/common_runtime/gpu/gpu_device.cc:1746] Adding visible gpu devices: 0\n",
            "2019-10-13 07:05:47.004929: I tensorflow/stream_executor/platform/default/dso_loader.cc:44] Successfully opened dynamic library libcudart.so.10.0\n",
            "2019-10-13 07:05:47.006676: I tensorflow/core/common_runtime/gpu/gpu_device.cc:1159] Device interconnect StreamExecutor with strength 1 edge matrix:\n",
            "2019-10-13 07:05:47.006712: I tensorflow/core/common_runtime/gpu/gpu_device.cc:1165]      0 \n",
            "2019-10-13 07:05:47.006725: I tensorflow/core/common_runtime/gpu/gpu_device.cc:1178] 0:   N \n",
            "2019-10-13 07:05:47.007933: I tensorflow/stream_executor/cuda/cuda_gpu_executor.cc:983] successful NUMA node read from SysFS had negative value (-1), but there must be at least one NUMA node, so returning NUMA node zero\n",
            "2019-10-13 07:05:47.008798: I tensorflow/stream_executor/cuda/cuda_gpu_executor.cc:983] successful NUMA node read from SysFS had negative value (-1), but there must be at least one NUMA node, so returning NUMA node zero\n",
            "2019-10-13 07:05:47.009498: W tensorflow/core/common_runtime/gpu/gpu_bfc_allocator.cc:39] Overriding allow_growth setting because the TF_FORCE_GPU_ALLOW_GROWTH environment variable is set. Original config value was 0.\n",
            "2019-10-13 07:05:47.009550: I tensorflow/core/common_runtime/gpu/gpu_device.cc:1304] Created TensorFlow device (/job:localhost/replica:0/task:0/device:GPU:0 with 10805 MB memory) -> physical GPU (device: 0, name: Tesla K80, pci bus id: 0000:00:04.0, compute capability: 3.7)\n",
            "WARNING:tensorflow:From /usr/local/lib/python3.6/dist-packages/keras/backend/tensorflow_backend.py:207: The name tf.global_variables is deprecated. Please use tf.compat.v1.global_variables instead.\n",
            "\n",
            "WARNING:tensorflow:From /usr/local/lib/python3.6/dist-packages/keras/backend/tensorflow_backend.py:216: The name tf.is_variable_initialized is deprecated. Please use tf.compat.v1.is_variable_initialized instead.\n",
            "\n",
            "WARNING:tensorflow:From /usr/local/lib/python3.6/dist-packages/keras/backend/tensorflow_backend.py:223: The name tf.variables_initializer is deprecated. Please use tf.compat.v1.variables_initializer instead.\n",
            "\n",
            "Training network heads\n",
            "\n",
            "Starting at epoch 0. LR=0.001\n",
            "\n",
            "Checkpoint Path: /content/drive/My Drive/Mask_RCNN/logs/damage20191013T0705/mask_rcnn_damage_{epoch:04d}.h5\n",
            "Selecting layers to train\n",
            "fpn_c5p5               (Conv2D)\n",
            "fpn_c4p4               (Conv2D)\n",
            "fpn_c3p3               (Conv2D)\n",
            "fpn_c2p2               (Conv2D)\n",
            "fpn_p5                 (Conv2D)\n",
            "fpn_p2                 (Conv2D)\n",
            "fpn_p3                 (Conv2D)\n",
            "fpn_p4                 (Conv2D)\n",
            "In model:  rpn_model\n",
            "    rpn_conv_shared        (Conv2D)\n",
            "    rpn_class_raw          (Conv2D)\n",
            "    rpn_bbox_pred          (Conv2D)\n",
            "mrcnn_mask_conv1       (TimeDistributed)\n",
            "mrcnn_mask_bn1         (TimeDistributed)\n",
            "mrcnn_mask_conv2       (TimeDistributed)\n",
            "mrcnn_mask_bn2         (TimeDistributed)\n",
            "mrcnn_class_conv1      (TimeDistributed)\n",
            "mrcnn_class_bn1        (TimeDistributed)\n",
            "mrcnn_mask_conv3       (TimeDistributed)\n",
            "mrcnn_mask_bn3         (TimeDistributed)\n",
            "mrcnn_class_conv2      (TimeDistributed)\n",
            "mrcnn_class_bn2        (TimeDistributed)\n",
            "mrcnn_mask_conv4       (TimeDistributed)\n",
            "mrcnn_mask_bn4         (TimeDistributed)\n",
            "mrcnn_bbox_fc          (TimeDistributed)\n",
            "mrcnn_mask_deconv      (TimeDistributed)\n",
            "mrcnn_class_logits     (TimeDistributed)\n",
            "mrcnn_mask             (TimeDistributed)\n",
            "WARNING:tensorflow:From /usr/local/lib/python3.6/dist-packages/keras/optimizers.py:793: The name tf.train.Optimizer is deprecated. Please use tf.compat.v1.train.Optimizer instead.\n",
            "\n",
            "/usr/local/lib/python3.6/dist-packages/tensorflow_core/python/framework/indexed_slices.py:424: UserWarning: Converting sparse IndexedSlices to a dense Tensor of unknown shape. This may consume a large amount of memory.\n",
            "  \"Converting sparse IndexedSlices to a dense Tensor of unknown shape. \"\n",
            "/usr/local/lib/python3.6/dist-packages/tensorflow_core/python/framework/indexed_slices.py:424: UserWarning: Converting sparse IndexedSlices to a dense Tensor of unknown shape. This may consume a large amount of memory.\n",
            "  \"Converting sparse IndexedSlices to a dense Tensor of unknown shape. \"\n",
            "/usr/local/lib/python3.6/dist-packages/tensorflow_core/python/framework/indexed_slices.py:424: UserWarning: Converting sparse IndexedSlices to a dense Tensor of unknown shape. This may consume a large amount of memory.\n",
            "  \"Converting sparse IndexedSlices to a dense Tensor of unknown shape. \"\n",
            "WARNING:tensorflow:From /usr/local/lib/python3.6/dist-packages/keras/backend/tensorflow_backend.py:1033: The name tf.assign_add is deprecated. Please use tf.compat.v1.assign_add instead.\n",
            "\n",
            "WARNING:tensorflow:From /usr/local/lib/python3.6/dist-packages/keras/backend/tensorflow_backend.py:1020: The name tf.assign is deprecated. Please use tf.compat.v1.assign instead.\n",
            "\n",
            "/usr/local/lib/python3.6/dist-packages/keras/engine/training_generator.py:49: UserWarning: Using a generator with `use_multiprocessing=True` and multiple workers may duplicate your data. Please consider using the `keras.utils.Sequence class.\n",
            "  UserWarning('Using a generator with `use_multiprocessing=True`'\n",
            "WARNING:tensorflow:From /usr/local/lib/python3.6/dist-packages/keras/callbacks.py:1122: The name tf.summary.merge_all is deprecated. Please use tf.compat.v1.summary.merge_all instead.\n",
            "\n",
            "WARNING:tensorflow:From /usr/local/lib/python3.6/dist-packages/keras/callbacks.py:1125: The name tf.summary.FileWriter is deprecated. Please use tf.compat.v1.summary.FileWriter instead.\n",
            "\n",
            "Epoch 1/10\n",
            "2019-10-13 07:07:01.036685: I tensorflow/stream_executor/platform/default/dso_loader.cc:44] Successfully opened dynamic library libcublas.so.10.0\n",
            "2019-10-13 07:07:02.491493: I tensorflow/stream_executor/platform/default/dso_loader.cc:44] Successfully opened dynamic library libcudnn.so.7\n",
            "100/100 [==============================] - 351s 4s/step - loss: 1.9955 - rpn_class_loss: 0.0167 - rpn_bbox_loss: 0.6250 - mrcnn_class_loss: 0.0749 - mrcnn_bbox_loss: 0.7164 - mrcnn_mask_loss: 0.5625 - val_loss: 1.6974 - val_rpn_class_loss: 0.0101 - val_rpn_bbox_loss: 0.4573 - val_mrcnn_class_loss: 0.0564 - val_mrcnn_bbox_loss: 0.6743 - val_mrcnn_mask_loss: 0.4994\n",
            "WARNING:tensorflow:From /usr/local/lib/python3.6/dist-packages/keras/callbacks.py:1265: The name tf.Summary is deprecated. Please use tf.compat.v1.Summary instead.\n",
            "\n",
            "Epoch 2/10\n",
            "100/100 [==============================] - 284s 3s/step - loss: 1.0493 - rpn_class_loss: 0.0074 - rpn_bbox_loss: 0.1892 - mrcnn_class_loss: 0.0441 - mrcnn_bbox_loss: 0.3814 - mrcnn_mask_loss: 0.4272 - val_loss: 1.7070 - val_rpn_class_loss: 0.0084 - val_rpn_bbox_loss: 0.5956 - val_mrcnn_class_loss: 0.0484 - val_mrcnn_bbox_loss: 0.5915 - val_mrcnn_mask_loss: 0.4631\n",
            "Epoch 3/10\n",
            "100/100 [==============================] - 284s 3s/step - loss: 0.8052 - rpn_class_loss: 0.0053 - rpn_bbox_loss: 0.1655 - mrcnn_class_loss: 0.0330 - mrcnn_bbox_loss: 0.2678 - mrcnn_mask_loss: 0.3336 - val_loss: 1.6968 - val_rpn_class_loss: 0.0089 - val_rpn_bbox_loss: 0.6267 - val_mrcnn_class_loss: 0.0455 - val_mrcnn_bbox_loss: 0.5667 - val_mrcnn_mask_loss: 0.4490\n",
            "Epoch 4/10\n",
            "100/100 [==============================] - 283s 3s/step - loss: 0.6321 - rpn_class_loss: 0.0046 - rpn_bbox_loss: 0.1159 - mrcnn_class_loss: 0.0336 - mrcnn_bbox_loss: 0.2065 - mrcnn_mask_loss: 0.2716 - val_loss: 2.0051 - val_rpn_class_loss: 0.0082 - val_rpn_bbox_loss: 0.7695 - val_mrcnn_class_loss: 0.0532 - val_mrcnn_bbox_loss: 0.6109 - val_mrcnn_mask_loss: 0.5633\n",
            "Epoch 5/10\n",
            "100/100 [==============================] - 283s 3s/step - loss: 0.5386 - rpn_class_loss: 0.0045 - rpn_bbox_loss: 0.1152 - mrcnn_class_loss: 0.0317 - mrcnn_bbox_loss: 0.1590 - mrcnn_mask_loss: 0.2281 - val_loss: 1.8830 - val_rpn_class_loss: 0.0086 - val_rpn_bbox_loss: 0.6718 - val_mrcnn_class_loss: 0.0600 - val_mrcnn_bbox_loss: 0.5719 - val_mrcnn_mask_loss: 0.5708\n",
            "Epoch 6/10\n",
            "100/100 [==============================] - 283s 3s/step - loss: 0.4449 - rpn_class_loss: 0.0038 - rpn_bbox_loss: 0.0827 - mrcnn_class_loss: 0.0289 - mrcnn_bbox_loss: 0.1327 - mrcnn_mask_loss: 0.1967 - val_loss: 1.9746 - val_rpn_class_loss: 0.0089 - val_rpn_bbox_loss: 0.7370 - val_mrcnn_class_loss: 0.0590 - val_mrcnn_bbox_loss: 0.5207 - val_mrcnn_mask_loss: 0.6490\n",
            "Epoch 7/10\n",
            "100/100 [==============================] - 285s 3s/step - loss: 0.3641 - rpn_class_loss: 0.0040 - rpn_bbox_loss: 0.0697 - mrcnn_class_loss: 0.0224 - mrcnn_bbox_loss: 0.1202 - mrcnn_mask_loss: 0.1479 - val_loss: 2.1943 - val_rpn_class_loss: 0.0116 - val_rpn_bbox_loss: 0.9171 - val_mrcnn_class_loss: 0.0443 - val_mrcnn_bbox_loss: 0.5396 - val_mrcnn_mask_loss: 0.6818\n",
            "Epoch 8/10\n",
            "100/100 [==============================] - 283s 3s/step - loss: 0.3163 - rpn_class_loss: 0.0033 - rpn_bbox_loss: 0.0592 - mrcnn_class_loss: 0.0212 - mrcnn_bbox_loss: 0.0983 - mrcnn_mask_loss: 0.1342 - val_loss: 2.4255 - val_rpn_class_loss: 0.0128 - val_rpn_bbox_loss: 1.0041 - val_mrcnn_class_loss: 0.0550 - val_mrcnn_bbox_loss: 0.5554 - val_mrcnn_mask_loss: 0.7983\n",
            "Epoch 9/10\n",
            "100/100 [==============================] - 283s 3s/step - loss: 0.3010 - rpn_class_loss: 0.0029 - rpn_bbox_loss: 0.0691 - mrcnn_class_loss: 0.0203 - mrcnn_bbox_loss: 0.0804 - mrcnn_mask_loss: 0.1283 - val_loss: 2.1602 - val_rpn_class_loss: 0.0114 - val_rpn_bbox_loss: 0.7852 - val_mrcnn_class_loss: 0.0719 - val_mrcnn_bbox_loss: 0.5368 - val_mrcnn_mask_loss: 0.7548\n",
            "Epoch 10/10\n",
            "100/100 [==============================] - 282s 3s/step - loss: 0.2807 - rpn_class_loss: 0.0026 - rpn_bbox_loss: 0.0624 - mrcnn_class_loss: 0.0213 - mrcnn_bbox_loss: 0.0823 - mrcnn_mask_loss: 0.1121 - val_loss: 2.1666 - val_rpn_class_loss: 0.0109 - val_rpn_bbox_loss: 0.6905 - val_mrcnn_class_loss: 0.0854 - val_mrcnn_bbox_loss: 0.5418 - val_mrcnn_mask_loss: 0.8380\n"
          ],
          "name": "stdout"
        }
      ]
    },
    {
      "cell_type": "code",
      "metadata": {
        "id": "Aux88-M32h6-",
        "colab_type": "code",
        "colab": {}
      },
      "source": [
        ""
      ],
      "execution_count": 0,
      "outputs": []
    }
  ]
}